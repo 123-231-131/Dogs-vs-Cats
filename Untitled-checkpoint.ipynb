{
 "cells": [
  {
   "cell_type": "code",
   "execution_count": null,
   "id": "76bb564d-dd44-4985-b4a9-dfa4ca9b67b9",
   "metadata": {},
   "outputs": [
    {
     "name": "stdout",
     "output_type": "stream",
     "text": [
      "Requirement already satisfied: kaggle in /home/kali/anaconda3/lib/python3.11/site-packages (1.6.6)\n",
      "Requirement already satisfied: six>=1.10 in /home/kali/anaconda3/lib/python3.11/site-packages (from kaggle) (1.16.0)\n",
      "Requirement already satisfied: certifi in /home/kali/anaconda3/lib/python3.11/site-packages (from kaggle) (2024.2.2)\n",
      "Requirement already satisfied: python-dateutil in /home/kali/anaconda3/lib/python3.11/site-packages (from kaggle) (2.8.2)\n",
      "Requirement already satisfied: requests in /home/kali/anaconda3/lib/python3.11/site-packages (from kaggle) (2.31.0)\n",
      "Requirement already satisfied: tqdm in /home/kali/anaconda3/lib/python3.11/site-packages (from kaggle) (4.65.0)\n",
      "Requirement already satisfied: python-slugify in /home/kali/anaconda3/lib/python3.11/site-packages (from kaggle) (5.0.2)\n",
      "Requirement already satisfied: urllib3 in /home/kali/anaconda3/lib/python3.11/site-packages (from kaggle) (2.0.7)\n",
      "Requirement already satisfied: bleach in /home/kali/anaconda3/lib/python3.11/site-packages (from kaggle) (4.1.0)\n",
      "Requirement already satisfied: packaging in /home/kali/anaconda3/lib/python3.11/site-packages (from bleach->kaggle) (23.1)\n",
      "Requirement already satisfied: webencodings in /home/kali/anaconda3/lib/python3.11/site-packages (from bleach->kaggle) (0.5.1)\n",
      "Requirement already satisfied: text-unidecode>=1.3 in /home/kali/anaconda3/lib/python3.11/site-packages (from python-slugify->kaggle) (1.3)\n",
      "Requirement already satisfied: charset-normalizer<4,>=2 in /home/kali/anaconda3/lib/python3.11/site-packages (from requests->kaggle) (2.0.4)\n",
      "Requirement already satisfied: idna<4,>=2.5 in /home/kali/anaconda3/lib/python3.11/site-packages (from requests->kaggle) (3.4)\n"
     ]
    }
   ],
   "source": [
    "pip install kaggle"
   ]
  },
  {
   "cell_type": "code",
   "execution_count": null,
   "id": "fd7ca0c4-fa09-493b-82a9-f251ab1b8a05",
   "metadata": {},
   "outputs": [],
   "source": [
    "!mkdir -p ~/.kaggle\n",
    "!cp kaggle.json ~/.kaggle/\n",
    "!chmod 600 ~/.kaggle/kaggle.json\n"
   ]
  },
  {
   "cell_type": "code",
   "execution_count": null,
   "id": "e9d9c6d7-c2ce-44f9-a1f9-b59f6a45129f",
   "metadata": {},
   "outputs": [],
   "source": [
    "#kaggle api\n",
    "!kaggle competitions download -c dogs-vs-cats"
   ]
  },
  {
   "cell_type": "code",
   "execution_count": null,
   "id": "627cab3b-df9c-435c-af87-a139c8e4c749",
   "metadata": {},
   "outputs": [],
   "source": [
    "ls"
   ]
  },
  {
   "cell_type": "code",
   "execution_count": null,
   "id": "3523afcd-97af-4458-8564-4f6f3d04025c",
   "metadata": {},
   "outputs": [],
   "source": [
    "from zipfile import ZipFile\n",
    "\n",
    "dataset = 'dogs-vs-cats.zip'\n",
    "\n",
    "with ZipFile(dataset, 'r') as zip:\n",
    "    zip.extractall()\n",
    "    print(\"The dataset is extracted\")\n"
   ]
  },
  {
   "cell_type": "code",
   "execution_count": null,
   "id": "508c1e0d-0fd5-467c-8869-85a55ef767a0",
   "metadata": {},
   "outputs": [],
   "source": [
    "ls"
   ]
  },
  {
   "cell_type": "code",
   "execution_count": null,
   "id": "a5458d21-1ddd-4d85-8a2a-2aab3a0115b0",
   "metadata": {},
   "outputs": [],
   "source": [
    "from zipfile import ZipFile\n",
    "\n",
    "dataset = 'train.zip'\n",
    "\n",
    "with ZipFile(dataset, 'r') as zip:\n",
    "    zip.extractall()\n",
    "    print(\"The dataset is extracted\")\n"
   ]
  },
  {
   "cell_type": "code",
   "execution_count": null,
   "id": "06d8d617-cb8e-4b62-926e-119b49f22871",
   "metadata": {},
   "outputs": [],
   "source": [
    "ls"
   ]
  },
  {
   "cell_type": "code",
   "execution_count": null,
   "id": "1a20a1aa-76d5-4818-b0d9-9a4fc44fbf3e",
   "metadata": {},
   "outputs": [],
   "source": [
    "cd train"
   ]
  },
  {
   "cell_type": "code",
   "execution_count": null,
   "id": "f5f1e099-5036-4d16-828d-b1e31329838c",
   "metadata": {},
   "outputs": [],
   "source": [
    "ls\n"
   ]
  },
  {
   "cell_type": "code",
   "execution_count": null,
   "id": "acfd89ca-3633-4686-8fb0-7150de18993b",
   "metadata": {},
   "outputs": [],
   "source": [
    "cd .."
   ]
  },
  {
   "cell_type": "code",
   "execution_count": null,
   "id": "5862d8d8-ccd0-4e45-829a-9c1ceb69b198",
   "metadata": {},
   "outputs": [],
   "source": [
    "ls"
   ]
  },
  {
   "cell_type": "code",
   "execution_count": null,
   "id": "c1cde9a4-4c93-4a54-9947-f31199ea463f",
   "metadata": {},
   "outputs": [],
   "source": [
    "from zipfile import ZipFile\n",
    "\n",
    "dataset = 'test1.zip'\n",
    "\n",
    "with ZipFile(dataset, 'r') as zip:\n",
    "    zip.extractall()\n",
    "    print(\"The dataset is extracted\")\n"
   ]
  },
  {
   "cell_type": "code",
   "execution_count": null,
   "id": "f37e63e9-4b44-460e-a586-df080e8c7978",
   "metadata": {},
   "outputs": [],
   "source": [
    "import os\n",
    "#counting number of files in train folder\n",
    "\n",
    "path , dirs , files = next(os.walk('train'))\n",
    "file_count = len(files)"
   ]
  },
  {
   "cell_type": "code",
   "execution_count": null,
   "id": "774a24d7-449d-47c0-b1c2-3629da363bf0",
   "metadata": {},
   "outputs": [],
   "source": [
    "file_count"
   ]
  },
  {
   "cell_type": "code",
   "execution_count": null,
   "id": "b1f15a65-0d13-47e9-9500-cc84ab67768b",
   "metadata": {},
   "outputs": [],
   "source": [
    "#Printing the name of images\n",
    "file_names = os.listdir('train')\n",
    "print(file_names)"
   ]
  },
  {
   "cell_type": "code",
   "execution_count": null,
   "id": "c4100575-4981-4f0d-86f3-5cde7c897b85",
   "metadata": {},
   "outputs": [],
   "source": [
    "#importing the dependencies\n",
    "import numpy as np\n",
    "from PIL import Image\n",
    "import matplotlib.pyplot as plt\n",
    "import matplotlib.image as mpimg\n",
    "from sklearn.model_selection import train_test_split\n",
    "import cv2\n"
   ]
  },
  {
   "cell_type": "code",
   "execution_count": null,
   "id": "d2875fac-e39b-42d7-817c-069ce2aafa0d",
   "metadata": {},
   "outputs": [],
   "source": [
    "pip install opencv-python\n"
   ]
  },
  {
   "cell_type": "code",
   "execution_count": null,
   "id": "17bc2405-9015-426e-b780-fad03076eaee",
   "metadata": {},
   "outputs": [],
   "source": [
    "# Displaying the images of dogs and cats\n",
    "img = mpimg.imread('train/dog.12334.jpg')\n",
    "imgplt = plt.imshow(img)\n",
    "plt.show()"
   ]
  },
  {
   "cell_type": "code",
   "execution_count": null,
   "id": "c2fff136-af36-45cc-828d-8df010b4e753",
   "metadata": {},
   "outputs": [],
   "source": [
    "img1 = mpimg.imread('train/cat.1497.jpg')\n",
    "imgplt1 = plt.imshow(img1)\n",
    "plt.show()"
   ]
  },
  {
   "cell_type": "code",
   "execution_count": null,
   "id": "746e5b8d-dd4c-45a8-bdea-c39164686669",
   "metadata": {},
   "outputs": [],
   "source": [
    "# counting number of cat and dog images\n",
    "file_name = os.listdir('train')\n",
    "dog_count = 0\n",
    "cat_count = 0\n",
    "for img in file_name:\n",
    "    name = img[0:3]\n",
    "\n",
    "    if name == 'dog':\n",
    "        dog_count += 1\n",
    "\n",
    "    else:\n",
    "        cat_count += 1\n",
    "\n",
    "print(\"Number of dog images = \",dog_count)\n",
    "print(\"Number of cat images = \",cat_count)\n",
    "    "
   ]
  },
  {
   "cell_type": "code",
   "execution_count": null,
   "id": "40971aad-359b-48db-976d-2e46249474ac",
   "metadata": {},
   "outputs": [],
   "source": [
    "original_folder = 'train/'\n",
    "resized_folder = 'image resized/'\n",
    "\n",
    "for i in range(2000):\n",
    "    filename = os.listdir(original_folder)[i]\n",
    "    img_path = original_folder+filename\n",
    "    img = Image.open(img_path)\n",
    "    img = img.resize((224,224))\n",
    "    img  =img.convert('RGB')\n",
    "    newImgPath = resized_folder+filename\n",
    "    img.save(newImgPath)"
   ]
  },
  {
   "cell_type": "code",
   "execution_count": null,
   "id": "f3e7315f-22e4-44a4-a9f4-db4c71df3443",
   "metadata": {},
   "outputs": [],
   "source": [
    "img1 = mpimg.imread('image resized/cat.1497.jpg')\n",
    "imgplt1 = plt.imshow(img1)\n",
    "plt.show()"
   ]
  },
  {
   "cell_type": "code",
   "execution_count": null,
   "id": "bd17f2d0-90c0-4013-b991-ffa9a0ffc8b2",
   "metadata": {},
   "outputs": [],
   "source": [
    "# Displaying the images of dogs and cats\n",
    "img = mpimg.imread('image resized/dog.12334.jpg')\n",
    "imgplt = plt.imshow(img)\n",
    "plt.show()"
   ]
  },
  {
   "cell_type": "code",
   "execution_count": null,
   "id": "4a917b56-6f16-4ed2-a65f-46e5284f4287",
   "metadata": {},
   "outputs": [],
   "source": [
    "# Labeling resized images cat-->0 and dog --> 1\n",
    "labels = []\n",
    "filenames = os.listdir('image resized')\n",
    "\n",
    "for i in range(2000):\n",
    "    file_name = filenames[i]\n",
    "    label = file_name[0:3]\n",
    "    if(label == 'dog'):\n",
    "        labels.append(1)\n",
    "    else:\n",
    "        labels.append(0)"
   ]
  },
  {
   "cell_type": "code",
   "execution_count": null,
   "id": "fd457953-02c8-4153-b8e5-15f2d5a29016",
   "metadata": {},
   "outputs": [],
   "source": [
    "filenames[0:5]"
   ]
  },
  {
   "cell_type": "code",
   "execution_count": null,
   "id": "9d9623df-cc20-4518-8502-01c9fd7fea03",
   "metadata": {},
   "outputs": [],
   "source": [
    "labels[0:5]"
   ]
  },
  {
   "cell_type": "code",
   "execution_count": null,
   "id": "9e1f656b-2562-457d-9508-72297d6e273a",
   "metadata": {},
   "outputs": [],
   "source": [
    "# counting the images of dogs and cats out of 2000 images\n",
    "values , counts = np.unique(labels, return_counts=True)\n",
    "print(values)\n",
    "print(counts)"
   ]
  },
  {
   "cell_type": "code",
   "execution_count": null,
   "id": "1fe23109-0f91-4a3d-8d3a-8db28f799338",
   "metadata": {},
   "outputs": [],
   "source": [
    "# converting  all the resized images to numpy arrays\n",
    "import cv2\n",
    "import glob #This module helps in finding all the pathnames\n",
    "            #matching a specified pattern\n",
    "image_directory = \"image resized/\"\n",
    "image_extension = ['png' , 'jpg']\n",
    "files = []\n",
    "\n",
    "#glob.glob(...):Finds all files with specified extensions in the specified \n",
    "#directory and appends them to the files list.\n",
    "[files.extend(glob.glob(image_directory + \"*.\" + e)) for e in image_extension]\n",
    "\n",
    "#np.asarray(...): Converts the list of image arrays into a NumPy array.\n",
    "dog_cat_images = np.asarray([cv2.imread(file) for file in files])"
   ]
  },
  {
   "cell_type": "code",
   "execution_count": null,
   "id": "0a8d7d1c-2066-4180-bbfb-d8d2f79346aa",
   "metadata": {},
   "outputs": [],
   "source": [
    "type(dog_cat_images)"
   ]
  },
  {
   "cell_type": "code",
   "execution_count": null,
   "id": "f6af3f6b-e5ff-4be9-bbf2-6ea530fbe998",
   "metadata": {},
   "outputs": [],
   "source": [
    "dog_cat_images.shape"
   ]
  },
  {
   "cell_type": "code",
   "execution_count": null,
   "id": "a390d0f9-a117-4637-99d1-7a1c0fceee39",
   "metadata": {},
   "outputs": [],
   "source": [
    "dog_cat_images"
   ]
  },
  {
   "cell_type": "code",
   "execution_count": null,
   "id": "bd0a03ef-e862-4a0a-9019-7bca71f19bd8",
   "metadata": {},
   "outputs": [],
   "source": [
    "x = dog_cat_images\n",
    "y = np.asarray(labels)\n",
    "# train_test_split\n",
    "x_train , x_test , y_train , y_test = train_test_split(x , y , test_size = 0.2 , random_state=2)\n",
    "print(x.shape , x_train.shape ,  x_test.shape)"
   ]
  },
  {
   "cell_type": "code",
   "execution_count": null,
   "id": "766e9de2-5ca6-408f-8d5c-bc7cc9b7b3eb",
   "metadata": {},
   "outputs": [],
   "source": [
    "# scaling the data between 0 and 1\n",
    "x_train_scaled = x_train/255\n",
    "x_test_scaled = x_test/255\n",
    "x_train_scaled\n",
    "x_test_scaled"
   ]
  },
  {
   "cell_type": "code",
   "execution_count": null,
   "id": "df9a3fb1-5df8-4cb5-bfbe-4d8088258a9a",
   "metadata": {},
   "outputs": [],
   "source": [
    "# Building the Neural Network"
   ]
  },
  {
   "cell_type": "code",
   "execution_count": null,
   "id": "9da48505-3c8f-4154-8691-6b48ea1e5fbd",
   "metadata": {},
   "outputs": [],
   "source": [
    "!pip install keras"
   ]
  },
  {
   "cell_type": "code",
   "execution_count": null,
   "id": "71747dd6-7e22-4a29-9bbc-13ef565cfbcb",
   "metadata": {},
   "outputs": [],
   "source": [
    "!pip install tensorflow_hub\n"
   ]
  },
  {
   "cell_type": "code",
   "execution_count": null,
   "id": "2111d26e-0b8e-49eb-bccf-d965d90448de",
   "metadata": {},
   "outputs": [],
   "source": [
    "!pip install --upgrade tensorflow\n",
    "!pip install --upgrade tensorflow_hub\n"
   ]
  },
  {
   "cell_type": "code",
   "execution_count": null,
   "id": "31c00011-0886-4bd9-9051-f735a078bbd1",
   "metadata": {},
   "outputs": [],
   "source": [
    "pip show tensorflow_hub\n"
   ]
  },
  {
   "cell_type": "code",
   "execution_count": null,
   "id": "bfe2c143-6c82-4077-9997-9320b07ed4eb",
   "metadata": {},
   "outputs": [],
   "source": [
    "import tensorflow as tf\n",
    "import tensorflow_hub as hub\n"
   ]
  },
  {
   "cell_type": "code",
   "execution_count": null,
   "id": "7fef6915-21d4-4320-8fa8-2599f5902e6f",
   "metadata": {},
   "outputs": [],
   "source": []
  },
  {
   "cell_type": "code",
   "execution_count": null,
   "id": "5cb9f601-4fde-49e3-902e-1a1381129dd3",
   "metadata": {},
   "outputs": [],
   "source": [
    "from tensorflow.keras.models import Model\n",
    "from tensorflow.keras.layers import Dense,Input\n",
    "\n",
    "# Create a simple model with an input layer and a dense layer\n",
    "input_layer = Input(shape=(224, 224, 3), dtype=tf.float32)\n",
    "dense_layer = Dense(10, activation='softmax')(input_layer)\n",
    "model = Model(inputs=input_layer, outputs=dense_layer)\n",
    "\n",
    "# Create some input data\n",
    "input_data = tf.random.normal(shape=(1, 224, 224, 3))\n",
    "\n",
    "# Use the predict() method of the model to get the output values\n",
    "output_data = model.predict(input_data)"
   ]
  },
  {
   "cell_type": "code",
   "execution_count": null,
   "id": "7b6289ff-b804-4887-bdb5-81ad564fe7da",
   "metadata": {},
   "outputs": [],
   "source": [
    "model.compile(\n",
    "    optimizer='adam',\n",
    "    loss=tf.keras.losses.SparseCategoricalCrossentropy(from_logits=True),\n",
    "    metrics=['accuracy']\n",
    ")\n"
   ]
  },
  {
   "cell_type": "code",
   "execution_count": null,
   "id": "d15d9a34-9612-43d2-bd1f-2a1e541a35a6",
   "metadata": {},
   "outputs": [],
   "source": [
    "model.fit(x_train_scaled,y_train,epochs=5)"
   ]
  },
  {
   "cell_type": "code",
   "execution_count": null,
   "id": "0d1a7938-1337-4b2f-93fd-677efcaa6a3b",
   "metadata": {},
   "outputs": [],
   "source": [
    "score , acc = model.evaluate(x_test_scaled,y_test)\n",
    "print('Test Loss =',score)\n",
    "print('Test Accuracy =',acc)"
   ]
  },
  {
   "cell_type": "code",
   "execution_count": null,
   "id": "6f92ee22-b0b0-4ca5-804c-f0083150354e",
   "metadata": {},
   "outputs": [],
   "source": [
    "# Predictive System\n",
    "input_img_path = input('Path of the image to be predicted: ')\n",
    "input_img = cv2.imread(input_img_path)\n",
    "cv2_imshow(input_img)\n",
    "input_img_resize = cv2.resize(input_img,(224,224))\n",
    "input_img_scaled = input_img_resize/255\n",
    "img_reshaped = np.reshape(Input_image_scaled , [1,224,224,3])\n",
    "input_prediction = model.predict(img_reshaped)\n",
    "input_pred_label = np.argmax(input_prediction)\n",
    "\n",
    "if input_pred_label == 0:\n",
    "    print(\"The image represents a Cat\")\n",
    "else:\n",
    "    print(\"The image represents a Dog\")"
   ]
  },
  {
   "cell_type": "code",
   "execution_count": null,
   "id": "c7116373-ac00-4c45-9a98-1dc7cb19d293",
   "metadata": {},
   "outputs": [],
   "source": []
  },
  {
   "cell_type": "code",
   "execution_count": null,
   "id": "57096b22-deda-4f17-b1e0-54d872a288b0",
   "metadata": {},
   "outputs": [],
   "source": []
  },
  {
   "cell_type": "code",
   "execution_count": null,
   "id": "692a523c-ab82-43e7-830c-61c1c443423c",
   "metadata": {},
   "outputs": [],
   "source": []
  }
 ],
 "metadata": {
  "kernelspec": {
   "display_name": "Python 3 (ipykernel)",
   "language": "python",
   "name": "python3"
  },
  "language_info": {
   "codemirror_mode": {
    "name": "ipython",
    "version": 3
   },
   "file_extension": ".py",
   "mimetype": "text/x-python",
   "name": "python",
   "nbconvert_exporter": "python",
   "pygments_lexer": "ipython3",
   "version": "3.11.5"
  }
 },
 "nbformat": 4,
 "nbformat_minor": 5
}
